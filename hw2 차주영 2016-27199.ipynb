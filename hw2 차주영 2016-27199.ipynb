{
 "cells": [
  {
   "cell_type": "code",
   "execution_count": 1,
   "metadata": {
    "collapsed": true
   },
   "outputs": [],
   "source": [
    "import numpy as np\n",
    "import pandas as pd\n",
    "import matplotlib.pyplot as plt\n",
    "np.random.seed(199)"
   ]
  },
  {
   "cell_type": "markdown",
   "metadata": {},
   "source": [
    "# [1] MCirreducibleR101"
   ]
  },
  {
   "cell_type": "markdown",
   "metadata": {},
   "source": [
    "Generating initial probability matrix"
   ]
  },
  {
   "cell_type": "code",
   "execution_count": 2,
   "metadata": {
    "collapsed": true
   },
   "outputs": [],
   "source": [
    "statenames = [\"Vanilla\", \"Chocolate\", \"Mixed\"]\n",
    "\n",
    "Ice = pd.DataFrame([[0, .5, .5], [1, 0, 0], [1, 0, 0]])\n",
    "Ice.columns = statenames\n",
    "Ice.index = statenames"
   ]
  },
  {
   "cell_type": "code",
   "execution_count": 3,
   "metadata": {
    "collapsed": false,
    "scrolled": false
   },
   "outputs": [
    {
     "data": {
      "text/html": [
       "<div>\n",
       "<style>\n",
       "    .dataframe thead tr:only-child th {\n",
       "        text-align: right;\n",
       "    }\n",
       "\n",
       "    .dataframe thead th {\n",
       "        text-align: left;\n",
       "    }\n",
       "\n",
       "    .dataframe tbody tr th {\n",
       "        vertical-align: top;\n",
       "    }\n",
       "</style>\n",
       "<table border=\"1\" class=\"dataframe\">\n",
       "  <thead>\n",
       "    <tr style=\"text-align: right;\">\n",
       "      <th></th>\n",
       "      <th>Vanilla</th>\n",
       "      <th>Chocolate</th>\n",
       "      <th>Mixed</th>\n",
       "    </tr>\n",
       "  </thead>\n",
       "  <tbody>\n",
       "    <tr>\n",
       "      <th>Vanilla</th>\n",
       "      <td>0</td>\n",
       "      <td>0.5</td>\n",
       "      <td>0.5</td>\n",
       "    </tr>\n",
       "    <tr>\n",
       "      <th>Chocolate</th>\n",
       "      <td>1</td>\n",
       "      <td>0.0</td>\n",
       "      <td>0.0</td>\n",
       "    </tr>\n",
       "    <tr>\n",
       "      <th>Mixed</th>\n",
       "      <td>1</td>\n",
       "      <td>0.0</td>\n",
       "      <td>0.0</td>\n",
       "    </tr>\n",
       "  </tbody>\n",
       "</table>\n",
       "</div>"
      ],
      "text/plain": [
       "           Vanilla  Chocolate  Mixed\n",
       "Vanilla          0        0.5    0.5\n",
       "Chocolate        1        0.0    0.0\n",
       "Mixed            1        0.0    0.0"
      ]
     },
     "execution_count": 3,
     "metadata": {},
     "output_type": "execute_result"
    }
   ],
   "source": [
    "Ice"
   ]
  },
  {
   "cell_type": "code",
   "execution_count": 4,
   "metadata": {
    "collapsed": false
   },
   "outputs": [],
   "source": [
    "NewIce = Ice.copy()\n",
    "Nmax = 30"
   ]
  },
  {
   "cell_type": "code",
   "execution_count": 5,
   "metadata": {
    "collapsed": false
   },
   "outputs": [],
   "source": [
    "piMat = [0] * Nmax\n",
    "for i in range(Nmax):\n",
    "    piMat[i] = [0]*3"
   ]
  },
  {
   "cell_type": "code",
   "execution_count": 6,
   "metadata": {
    "collapsed": false,
    "scrolled": true
   },
   "outputs": [],
   "source": [
    "piMat[0] = [0.1, 0.6, 0.3]"
   ]
  },
  {
   "cell_type": "code",
   "execution_count": 7,
   "metadata": {
    "collapsed": false,
    "scrolled": true
   },
   "outputs": [],
   "source": [
    "piMat = np.array(piMat)"
   ]
  },
  {
   "cell_type": "code",
   "execution_count": 8,
   "metadata": {
    "collapsed": false
   },
   "outputs": [
    {
     "name": "stdout",
     "output_type": "stream",
     "text": [
      "0\n",
      "           Vanilla  Chocolate  Mixed\n",
      "Vanilla        1.0        0.0    0.0\n",
      "Chocolate      0.0        0.5    0.5\n",
      "Mixed          0.0        0.5    0.5\n",
      "1\n",
      "           Vanilla  Chocolate  Mixed\n",
      "Vanilla        0.0        0.5    0.5\n",
      "Chocolate      1.0        0.0    0.0\n",
      "Mixed          1.0        0.0    0.0\n",
      "2\n",
      "           Vanilla  Chocolate  Mixed\n",
      "Vanilla        1.0        0.0    0.0\n",
      "Chocolate      0.0        0.5    0.5\n",
      "Mixed          0.0        0.5    0.5\n",
      "3\n",
      "           Vanilla  Chocolate  Mixed\n",
      "Vanilla        0.0        0.5    0.5\n",
      "Chocolate      1.0        0.0    0.0\n",
      "Mixed          1.0        0.0    0.0\n",
      "4\n",
      "           Vanilla  Chocolate  Mixed\n",
      "Vanilla        1.0        0.0    0.0\n",
      "Chocolate      0.0        0.5    0.5\n",
      "Mixed          0.0        0.5    0.5\n",
      "5\n",
      "           Vanilla  Chocolate  Mixed\n",
      "Vanilla        0.0        0.5    0.5\n",
      "Chocolate      1.0        0.0    0.0\n",
      "Mixed          1.0        0.0    0.0\n",
      "6\n",
      "           Vanilla  Chocolate  Mixed\n",
      "Vanilla        1.0        0.0    0.0\n",
      "Chocolate      0.0        0.5    0.5\n",
      "Mixed          0.0        0.5    0.5\n",
      "7\n",
      "           Vanilla  Chocolate  Mixed\n",
      "Vanilla        0.0        0.5    0.5\n",
      "Chocolate      1.0        0.0    0.0\n",
      "Mixed          1.0        0.0    0.0\n",
      "8\n",
      "           Vanilla  Chocolate  Mixed\n",
      "Vanilla        1.0        0.0    0.0\n",
      "Chocolate      0.0        0.5    0.5\n",
      "Mixed          0.0        0.5    0.5\n",
      "9\n",
      "           Vanilla  Chocolate  Mixed\n",
      "Vanilla        0.0        0.5    0.5\n",
      "Chocolate      1.0        0.0    0.0\n",
      "Mixed          1.0        0.0    0.0\n",
      "10\n",
      "           Vanilla  Chocolate  Mixed\n",
      "Vanilla        1.0        0.0    0.0\n",
      "Chocolate      0.0        0.5    0.5\n",
      "Mixed          0.0        0.5    0.5\n",
      "11\n",
      "           Vanilla  Chocolate  Mixed\n",
      "Vanilla        0.0        0.5    0.5\n",
      "Chocolate      1.0        0.0    0.0\n",
      "Mixed          1.0        0.0    0.0\n",
      "12\n",
      "           Vanilla  Chocolate  Mixed\n",
      "Vanilla        1.0        0.0    0.0\n",
      "Chocolate      0.0        0.5    0.5\n",
      "Mixed          0.0        0.5    0.5\n",
      "13\n",
      "           Vanilla  Chocolate  Mixed\n",
      "Vanilla        0.0        0.5    0.5\n",
      "Chocolate      1.0        0.0    0.0\n",
      "Mixed          1.0        0.0    0.0\n",
      "14\n",
      "           Vanilla  Chocolate  Mixed\n",
      "Vanilla        1.0        0.0    0.0\n",
      "Chocolate      0.0        0.5    0.5\n",
      "Mixed          0.0        0.5    0.5\n",
      "15\n",
      "           Vanilla  Chocolate  Mixed\n",
      "Vanilla        0.0        0.5    0.5\n",
      "Chocolate      1.0        0.0    0.0\n",
      "Mixed          1.0        0.0    0.0\n",
      "16\n",
      "           Vanilla  Chocolate  Mixed\n",
      "Vanilla        1.0        0.0    0.0\n",
      "Chocolate      0.0        0.5    0.5\n",
      "Mixed          0.0        0.5    0.5\n",
      "17\n",
      "           Vanilla  Chocolate  Mixed\n",
      "Vanilla        0.0        0.5    0.5\n",
      "Chocolate      1.0        0.0    0.0\n",
      "Mixed          1.0        0.0    0.0\n",
      "18\n",
      "           Vanilla  Chocolate  Mixed\n",
      "Vanilla        1.0        0.0    0.0\n",
      "Chocolate      0.0        0.5    0.5\n",
      "Mixed          0.0        0.5    0.5\n",
      "19\n",
      "           Vanilla  Chocolate  Mixed\n",
      "Vanilla        0.0        0.5    0.5\n",
      "Chocolate      1.0        0.0    0.0\n",
      "Mixed          1.0        0.0    0.0\n",
      "20\n",
      "           Vanilla  Chocolate  Mixed\n",
      "Vanilla        1.0        0.0    0.0\n",
      "Chocolate      0.0        0.5    0.5\n",
      "Mixed          0.0        0.5    0.5\n",
      "21\n",
      "           Vanilla  Chocolate  Mixed\n",
      "Vanilla        0.0        0.5    0.5\n",
      "Chocolate      1.0        0.0    0.0\n",
      "Mixed          1.0        0.0    0.0\n",
      "22\n",
      "           Vanilla  Chocolate  Mixed\n",
      "Vanilla        1.0        0.0    0.0\n",
      "Chocolate      0.0        0.5    0.5\n",
      "Mixed          0.0        0.5    0.5\n",
      "23\n",
      "           Vanilla  Chocolate  Mixed\n",
      "Vanilla        0.0        0.5    0.5\n",
      "Chocolate      1.0        0.0    0.0\n",
      "Mixed          1.0        0.0    0.0\n",
      "24\n",
      "           Vanilla  Chocolate  Mixed\n",
      "Vanilla        1.0        0.0    0.0\n",
      "Chocolate      0.0        0.5    0.5\n",
      "Mixed          0.0        0.5    0.5\n",
      "25\n",
      "           Vanilla  Chocolate  Mixed\n",
      "Vanilla        0.0        0.5    0.5\n",
      "Chocolate      1.0        0.0    0.0\n",
      "Mixed          1.0        0.0    0.0\n",
      "26\n",
      "           Vanilla  Chocolate  Mixed\n",
      "Vanilla        1.0        0.0    0.0\n",
      "Chocolate      0.0        0.5    0.5\n",
      "Mixed          0.0        0.5    0.5\n",
      "27\n",
      "           Vanilla  Chocolate  Mixed\n",
      "Vanilla        0.0        0.5    0.5\n",
      "Chocolate      1.0        0.0    0.0\n",
      "Mixed          1.0        0.0    0.0\n",
      "28\n",
      "           Vanilla  Chocolate  Mixed\n",
      "Vanilla        1.0        0.0    0.0\n",
      "Chocolate      0.0        0.5    0.5\n",
      "Mixed          0.0        0.5    0.5\n",
      "29\n",
      "           Vanilla  Chocolate  Mixed\n",
      "Vanilla        0.0        0.5    0.5\n",
      "Chocolate      1.0        0.0    0.0\n",
      "Mixed          1.0        0.0    0.0\n"
     ]
    },
    {
     "data": {
      "text/plain": [
       "array([[ 0.9 ,  0.05,  0.05],\n",
       "       [ 0.9 ,  0.05,  0.05],\n",
       "       [ 0.1 ,  0.45,  0.45],\n",
       "       [ 0.9 ,  0.05,  0.05],\n",
       "       [ 0.1 ,  0.45,  0.45],\n",
       "       [ 0.9 ,  0.05,  0.05],\n",
       "       [ 0.1 ,  0.45,  0.45],\n",
       "       [ 0.9 ,  0.05,  0.05],\n",
       "       [ 0.1 ,  0.45,  0.45],\n",
       "       [ 0.9 ,  0.05,  0.05],\n",
       "       [ 0.1 ,  0.45,  0.45],\n",
       "       [ 0.9 ,  0.05,  0.05],\n",
       "       [ 0.1 ,  0.45,  0.45],\n",
       "       [ 0.9 ,  0.05,  0.05],\n",
       "       [ 0.1 ,  0.45,  0.45],\n",
       "       [ 0.9 ,  0.05,  0.05],\n",
       "       [ 0.1 ,  0.45,  0.45],\n",
       "       [ 0.9 ,  0.05,  0.05],\n",
       "       [ 0.1 ,  0.45,  0.45],\n",
       "       [ 0.9 ,  0.05,  0.05],\n",
       "       [ 0.1 ,  0.45,  0.45],\n",
       "       [ 0.9 ,  0.05,  0.05],\n",
       "       [ 0.1 ,  0.45,  0.45],\n",
       "       [ 0.9 ,  0.05,  0.05],\n",
       "       [ 0.1 ,  0.45,  0.45],\n",
       "       [ 0.9 ,  0.05,  0.05],\n",
       "       [ 0.1 ,  0.45,  0.45],\n",
       "       [ 0.9 ,  0.05,  0.05],\n",
       "       [ 0.1 ,  0.45,  0.45],\n",
       "       [ 0.9 ,  0.05,  0.05]])"
      ]
     },
     "execution_count": 8,
     "metadata": {},
     "output_type": "execute_result"
    }
   ],
   "source": [
    "for ii in range(Nmax):\n",
    "    piMat[ii] = piMat[0] @ NewIce\n",
    "    OldIce = NewIce.copy()\n",
    "    NewIce = Ice.dot(OldIce)\n",
    "    print(ii)\n",
    "    print(NewIce)\n",
    "piMat"
   ]
  },
  {
   "cell_type": "markdown",
   "metadata": {},
   "source": [
    "Plotting"
   ]
  },
  {
   "cell_type": "code",
   "execution_count": 9,
   "metadata": {
    "collapsed": false,
    "scrolled": true
   },
   "outputs": [],
   "source": [
    "timee = [[element] for element in range(Nmax)]\n",
    "IceData = np.append(timee, piMat, axis=1)"
   ]
  },
  {
   "cell_type": "code",
   "execution_count": 10,
   "metadata": {
    "collapsed": false
   },
   "outputs": [
    {
     "data": {
      "image/png": "[encoded data removed]",
      "text/plain": [
       "<matplotlib.figure.Figure at 0x1829539e860>"
      ]
     },
     "metadata": {},
     "output_type": "display_data"
    }
   ],
   "source": [
    "ls = ['--','--',':']\n",
    "col = ['lightblue','lightcoral','olive']\n",
    "\n",
    "fig, ax = plt.subplots(figsize=(5, 3.75))\n",
    "\n",
    "for i in range(3):\n",
    "    plt.plot(timee, piMat[:,i],ls=ls[i],c=col[i],label=statenames[i])\n",
    "\n",
    "plt.xlabel('Time')\n",
    "plt.ylabel('States')\n",
    "plt.title('State Probabilities')\n",
    "\n",
    "plt.legend()\n",
    "plt.savefig('MCirreducible.png')\n",
    "plt.show()"
   ]
  },
  {
   "cell_type": "markdown",
   "metadata": {
    "collapsed": true
   },
   "source": [
    "# [2] FixedPointIntegralEquation101"
   ]
  },
  {
   "cell_type": "markdown",
   "metadata": {},
   "source": [
    "Gibbs Sampler Function"
   ]
  },
  {
   "cell_type": "code",
   "execution_count": 11,
   "metadata": {
    "collapsed": false
   },
   "outputs": [],
   "source": [
    "def GibbsSampler(Nobs):\n",
    "    zmat = np.zeros((Nobs, 2))\n",
    "    x = 1\n",
    "    y = 1\n",
    "    zmat[0,] = [x, y]\n",
    "    for ii in range(1,Nobs):\n",
    "        x = np.random.exponential(1/y,1)\n",
    "        y = np.random.exponential(1/x,1)\n",
    "        zmat[ii,] = [x, y]\n",
    "    return zmat"
   ]
  },
  {
   "cell_type": "markdown",
   "metadata": {},
   "source": [
    "Sampling"
   ]
  },
  {
   "cell_type": "code",
   "execution_count": 12,
   "metadata": {
    "collapsed": false
   },
   "outputs": [
    {
     "data": {
      "text/plain": [
       "array([[  2.35913160e+43,   2.40576398e-44],\n",
       "       [  2.89743495e+43,   2.31299950e-45],\n",
       "       [  5.27438196e+44,   3.28765266e-46],\n",
       "       ..., \n",
       "       [  2.71087320e+61,   1.40649955e-63],\n",
       "       [  1.04188649e+63,   2.41919444e-63],\n",
       "       [  5.61824896e+62,   2.24277844e-63]])"
      ]
     },
     "execution_count": 12,
     "metadata": {},
     "output_type": "execute_result"
    }
   ],
   "source": [
    "Nobs = 1024\n",
    "burnin = 9000\n",
    "np.random.seed(199)\n",
    "dum = GibbsSampler(burnin + Nobs)\n",
    "\n",
    "GibbsRN = np.zeros((Nobs,2))\n",
    "for iii in range(Nobs):\n",
    "    GibbsRN[iii,] = dum[burnin + iii,]\n",
    "GibbsRN"
   ]
  },
  {
   "cell_type": "markdown",
   "metadata": {},
   "source": [
    "Plotting"
   ]
  },
  {
   "cell_type": "code",
   "execution_count": 13,
   "metadata": {
    "collapsed": false
   },
   "outputs": [],
   "source": [
    "time2 = [burnin + i for i in range(1,Nobs+1)]\n",
    "timee2 = [[element] for element in time2]\n",
    "#GibbsData = np.append(timee2, GibbsRN, axis=1)"
   ]
  },
  {
   "cell_type": "code",
   "execution_count": 14,
   "metadata": {
    "collapsed": false
   },
   "outputs": [
    {
     "data": {
      "image/png": "[encoded data removed]",
      "text/plain": [
       "<matplotlib.figure.Figure at 0x18295820358>"
      ]
     },
     "metadata": {},
     "output_type": "display_data"
    }
   ],
   "source": [
    "fig, ax = plt.subplots(figsize=(5, 3.75))\n",
    "\n",
    "plt.subplot(211)\n",
    "plt.plot(timee2, GibbsRN[:,0],ls='-',c='lightcoral')\n",
    "\n",
    "plt.xlabel('Time')\n",
    "plt.ylabel('x')\n",
    "plt.title('Fixed Point Integral Equation')\n",
    "\n",
    "plt.subplot(212)\n",
    "plt.plot(timee2, GibbsRN[:,1],ls='-',c='cornflowerblue')\n",
    "\n",
    "plt.xlabel('Time')\n",
    "plt.ylabel('y')\n",
    "\n",
    "\n",
    "plt.subplots_adjust(hspace = 0.7)\n",
    "plt.savefig('FixedPointIntegralEstimation.png')\n",
    "plt.show()"
   ]
  },
  {
   "cell_type": "markdown",
   "metadata": {},
   "source": [
    "# [3] GibbsSamplerLogit102R"
   ]
  },
  {
   "cell_type": "code",
   "execution_count": 15,
   "metadata": {
    "collapsed": false,
    "scrolled": true
   },
   "outputs": [],
   "source": [
    "import statsmodels as sm\n",
    "import seaborn as sns"
   ]
  },
  {
   "cell_type": "code",
   "execution_count": 16,
   "metadata": {
    "collapsed": false,
    "scrolled": false
   },
   "outputs": [
    {
     "data": {
      "text/html": [
       "<div>\n",
       "<style>\n",
       "    .dataframe thead tr:only-child th {\n",
       "        text-align: right;\n",
       "    }\n",
       "\n",
       "    .dataframe thead th {\n",
       "        text-align: left;\n",
       "    }\n",
       "\n",
       "    .dataframe tbody tr th {\n",
       "        vertical-align: top;\n",
       "    }\n",
       "</style>\n",
       "<table border=\"1\" class=\"dataframe\">\n",
       "  <thead>\n",
       "    <tr style=\"text-align: right;\">\n",
       "      <th></th>\n",
       "      <th>OBS</th>\n",
       "      <th>GPA</th>\n",
       "      <th>TUCE</th>\n",
       "      <th>PSI</th>\n",
       "      <th>GRADE</th>\n",
       "    </tr>\n",
       "  </thead>\n",
       "  <tbody>\n",
       "    <tr>\n",
       "      <th>0</th>\n",
       "      <td>1</td>\n",
       "      <td>2.66</td>\n",
       "      <td>20</td>\n",
       "      <td>0</td>\n",
       "      <td>0</td>\n",
       "    </tr>\n",
       "    <tr>\n",
       "      <th>1</th>\n",
       "      <td>2</td>\n",
       "      <td>2.89</td>\n",
       "      <td>22</td>\n",
       "      <td>0</td>\n",
       "      <td>0</td>\n",
       "    </tr>\n",
       "    <tr>\n",
       "      <th>2</th>\n",
       "      <td>3</td>\n",
       "      <td>3.28</td>\n",
       "      <td>24</td>\n",
       "      <td>0</td>\n",
       "      <td>0</td>\n",
       "    </tr>\n",
       "    <tr>\n",
       "      <th>3</th>\n",
       "      <td>4</td>\n",
       "      <td>2.92</td>\n",
       "      <td>12</td>\n",
       "      <td>0</td>\n",
       "      <td>0</td>\n",
       "    </tr>\n",
       "    <tr>\n",
       "      <th>4</th>\n",
       "      <td>5</td>\n",
       "      <td>4.00</td>\n",
       "      <td>21</td>\n",
       "      <td>0</td>\n",
       "      <td>1</td>\n",
       "    </tr>\n",
       "  </tbody>\n",
       "</table>\n",
       "</div>"
      ],
      "text/plain": [
       "   OBS   GPA  TUCE  PSI  GRADE \n",
       "0    1  2.66    20    0       0\n",
       "1    2  2.89    22    0       0\n",
       "2    3  3.28    24    0       0\n",
       "3    4  2.92    12    0       0\n",
       "4    5  4.00    21    0       1"
      ]
     },
     "execution_count": 16,
     "metadata": {},
     "output_type": "execute_result"
    }
   ],
   "source": [
    "df_mydata = pd.read_csv('SpectorMazzeo.csv')\n",
    "df_mydata.head()"
   ]
  },
  {
   "cell_type": "code",
   "execution_count": 17,
   "metadata": {
    "collapsed": false
   },
   "outputs": [
    {
     "data": {
      "text/plain": [
       "(32, 5)"
      ]
     },
     "execution_count": 17,
     "metadata": {},
     "output_type": "execute_result"
    }
   ],
   "source": [
    "np_mydata = df_mydata.as_matrix()\n",
    "np_mydata.shape"
   ]
  },
  {
   "cell_type": "code",
   "execution_count": 18,
   "metadata": {
    "collapsed": false
   },
   "outputs": [],
   "source": [
    "nX = np_mydata.shape[0]\n",
    "X = np.append(np.ones((nX,1)),np_mydata[:,1:4], axis =1)\n",
    "y = np_mydata[:,-1]\n",
    "kX = X.shape[1]\n",
    "XtX = X.transpose() @ X\n",
    "Xty = X.transpose() @ y\n",
    "yty = y.transpose() @ y"
   ]
  },
  {
   "cell_type": "markdown",
   "metadata": {},
   "source": [
    "Prior"
   ]
  },
  {
   "cell_type": "code",
   "execution_count": 19,
   "metadata": {
    "collapsed": true
   },
   "outputs": [],
   "source": [
    "b0 = [-2, 1, 0, 0]\n",
    "B0 = 2*np.eye(4)"
   ]
  },
  {
   "cell_type": "markdown",
   "metadata": {},
   "source": [
    "Posterior"
   ]
  },
  {
   "cell_type": "code",
   "execution_count": 20,
   "metadata": {
    "collapsed": true
   },
   "outputs": [],
   "source": [
    "# Truncated Logistic Random Number\n",
    "def trunLogistic(mu, sigma, L, U):\n",
    "    uRN = np.random.uniform(size=1)\n",
    "    dumTL =uRN/(1+np.exp(-(U-mu)/sigma)) + (1-uRN)/(1+np.exp(-(L-mu)/sigma))\n",
    "    trunLogistic = np.log(dumTL/(1-dumTL))\n",
    "    return trunLogistic"
   ]
  },
  {
   "cell_type": "markdown",
   "metadata": {},
   "source": [
    "Initials"
   ]
  },
  {
   "cell_type": "code",
   "execution_count": 21,
   "metadata": {
    "collapsed": false,
    "scrolled": true
   },
   "outputs": [],
   "source": [
    "Nsim = 200\n",
    "Nburnin = 1000\n",
    "Nobs = Nsim + Nburnin\n",
    "Bpost = np.linalg.pinv(np.linalg.pinv(B0) + XtX)\n",
    "bpost = Bpost @ (np.linalg.pinv(B0) @ b0 + Xty)\n",
    "ystar = np.zeros(nX)\n",
    "betaa = np.array(b0)\n",
    "betaAtotal = np.zeros((Nobs,kX))"
   ]
  },
  {
   "cell_type": "markdown",
   "metadata": {},
   "source": [
    "GibbsSampler"
   ]
  },
  {
   "cell_type": "code",
   "execution_count": 22,
   "metadata": {
    "collapsed": false
   },
   "outputs": [],
   "source": [
    "np.random.seed(199)\n",
    "for i in range(Nobs):\n",
    "    for ii in range(nX):\n",
    "        if y[ii]==1:\n",
    "            ystar[ii] = trunLogistic(betaa @ X[ii,],1,0,np.inf)\n",
    "        else:\n",
    "            ystar[ii] = trunLogistic(betaa @ X[ii,],1,-np.inf,0)\n",
    "    bpost = Bpost @ (np.linalg.pinv(B0) @ b0 + X.transpose() @ ystar)\n",
    "    betaa = np.random.multivariate_normal(bpost,Bpost,size=1)\n",
    "    betaAtotal[i,] = betaa"
   ]
  },
  {
   "cell_type": "code",
   "execution_count": 23,
   "metadata": {
    "collapsed": false,
    "scrolled": true
   },
   "outputs": [
    {
     "name": "stdout",
     "output_type": "stream",
     "text": [
      "< Column means >\n",
      "[-3.01273743  0.70564778  0.01146053  0.66017684]\n",
      "< Covariance matrix >\n",
      "[[ 1.59784426 -0.23649951 -0.037665   -0.02489526]\n",
      " [-0.23649951  0.35608536 -0.03814756 -0.01830711]\n",
      " [-0.037665   -0.03814756  0.00719054 -0.00377148]\n",
      " [-0.02489526 -0.01830711 -0.00377148  0.38142805]]\n"
     ]
    }
   ],
   "source": [
    "betaA = betaAtotal[Nburnin:,]\n",
    "\n",
    "# column means\n",
    "print('< Column means >')\n",
    "colmean = np.zeros(kX)\n",
    "for k in range(kX):\n",
    "    colmean[k] = np.mean(betaA[:,k])\n",
    "print(colmean)\n",
    "\n",
    "# covariance matrix\n",
    "betaAt = betaA.transpose()\n",
    "print('< Covariance matrix >')\n",
    "print(np.cov(betaAt))"
   ]
  },
  {
   "cell_type": "markdown",
   "metadata": {},
   "source": [
    "Plotting"
   ]
  },
  {
   "cell_type": "code",
   "execution_count": 24,
   "metadata": {
    "collapsed": false
   },
   "outputs": [
    {
     "data": {
      "image/png": "[encoded data removed]",
      "text/plain": [
       "<matplotlib.figure.Figure at 0x1829746d2b0>"
      ]
     },
     "metadata": {},
     "output_type": "display_data"
    }
   ],
   "source": [
    "time3 = range(Nsim)\n",
    "timee3 = [[t] for t in time3]\n",
    "colors = [\"royalblue\",\"mediumaquamarine\",\"salmon\",\"hotpink\"]\n",
    "betas = [\"beta_0, beta_1, beta_2, beta_3\"]\n",
    "\n",
    "plt.figure(1)\n",
    "\n",
    "for k in range(kX):\n",
    "    plt.subplot(221+k)\n",
    "    sns.distplot(betaA[:,k],hist=True,bins=30,color=colors[k])\n",
    "    plt.xlabel('beta_%s' %k)\n",
    "    plt.ylabel('density')\n",
    "\n",
    "\n",
    "plt.subplots_adjust(top=0.92, bottom=0.08, left=0.10, right=0.95, hspace=0.25,\n",
    "                    wspace=0.35)\n",
    "\n",
    "plt.savefig('GibbsSamplerLogit102a.png')\n",
    "plt.show()"
   ]
  },
  {
   "cell_type": "code",
   "execution_count": 25,
   "metadata": {
    "collapsed": true
   },
   "outputs": [
    {
     "name": "stderr",
     "output_type": "stream",
     "text": [
      "C:\\Users\\user\\Anaconda3\\lib\\site-packages\\statsmodels\\compat\\pandas.py:56: FutureWarning: The pandas.core.datetools module is deprecated and will be removed in a future version. Please use the pandas.tseries module instead.\n",
      "  from pandas.core import datetools\n"
     ]
    }
   ],
   "source": [
    "from statsmodels.tsa.stattools import acf"
   ]
  },
  {
   "cell_type": "markdown",
   "metadata": {},
   "source": [
    "ACF"
   ]
  },
  {
   "cell_type": "code",
   "execution_count": 26,
   "metadata": {
    "collapsed": false
   },
   "outputs": [
    {
     "data": {
      "image/png": "[encoded data removed]",
      "text/plain": [
       "<matplotlib.figure.Figure at 0x18298c314e0>"
      ]
     },
     "metadata": {},
     "output_type": "display_data"
    }
   ],
   "source": [
    "plt.figure(1)\n",
    "\n",
    "for k in range(kX):\n",
    "    plt.subplot(221+k)\n",
    "    (markers, stemlines, baseline) = plt.stem(acf(betaA[:,k]))\n",
    "    plt.setp(markers, visible = False)\n",
    "    plt.setp(stemlines, 'linewidth', '3',color = colors[k])\n",
    "    plt.setp(baseline, 'linewidth', '3', color = \"slategray\")\n",
    "\n",
    "plt.subplots_adjust(top=0.92, bottom=0.08, left=0.10, right=0.95, hspace=0.25,\n",
    "                    wspace=0.35)\n",
    "\n",
    "plt.savefig('GibbsSamplerLogit102b.png')\n",
    "plt.show()"
   ]
  }
 ],
 "metadata": {
  "kernelspec": {
   "display_name": "Python 3",
   "language": "python",
   "name": "python3"
  },
  "language_info": {
   "codemirror_mode": {
    "name": "ipython",
    "version": 3
   },
   "file_extension": ".py",
   "mimetype": "text/x-python",
   "name": "python",
   "nbconvert_exporter": "python",
   "pygments_lexer": "ipython3",
   "version": "3.6.1"
  }
 },
 "nbformat": 4,
 "nbformat_minor": 2
}
